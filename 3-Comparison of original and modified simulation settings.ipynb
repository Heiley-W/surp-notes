{
 "cells": [
  {
   "cell_type": "markdown",
   "id": "239ce377-fe64-48b8-80d6-4a18db9893e9",
   "metadata": {},
   "source": [
    "# README file\n",
    "Changes: \n",
    "1. Topology file: Different position restraints\n",
    "2. GPU-related options\n",
    "3. Maximum number of iterations"
   ]
  },
  {
   "cell_type": "code",
   "execution_count": 156,
   "id": "f2419322-401f-43b8-8b88-aa8da95e6c03",
   "metadata": {},
   "outputs": [
    {
     "name": "stdout",
     "output_type": "stream",
     "text": [
      "6c6\n",
      "\u001b[31m< # This folder contains GROMACS formatted force fields, a pre-optimized PDB structure, and GROMACS inputs.\n",
      "\u001b[m---\n",
      "\u001b[32m> # This folder contains GROMACS formatted CHARMM36 force fields, a pre-optimized PDB structure, and GROMACS inputs.\n",
      "\u001b[m26c26\n",
      "\u001b[31m< gmx_d mdrun -v -deffnm ${mini_prefix}\n",
      "\u001b[m---\n",
      "\u001b[32m> gmx mdrun -v -deffnm ${mini_prefix} -nt 1\n",
      "\u001b[m38,39c38,39\n",
      "\u001b[31m<     gmx grompp -f ${istep}.mdp -o ${istep}.tpr -c ${pstep}.gro -r ${rest_prefix}.gro -p topol.top -n index.ndx\n",
      "<     gmx mdrun -v -deffnm ${istep}\n",
      "\u001b[m---\n",
      "\u001b[32m>     gmx grompp -f ${istep}.mdp -o ${istep}.tpr -c ${pstep}.gro -r ${rest_prefix}.gro -p topol.top -n index.ndx -maxwarn 2\n",
      ">     gmx mdrun -v -deffnm ${istep} -gpu_id 0 -ntomp 16 -bonded gpu -nb gpu -pme gpu -pmefft gpu -pin on -pinoffset 16 -pinstride 1\n",
      "\u001b[m45c45\n",
      "\u001b[31m< set cntmax = 10\n",
      "\u001b[m---\n",
      "\u001b[32m> set cntmax = 1\n",
      "\u001b[m54c54\n",
      "\u001b[31m<         gmx grompp -f ${prod_prefix}.mdp -o ${istep}.tpr -c ${pstep}.gro -p topol.top -n index.ndx\n",
      "\u001b[m---\n",
      "\u001b[32m>         gmx grompp -f ${prod_prefix}.mdp -o ${istep}.tpr -c ${pstep}.gro -r ${pstep}.gro -p topol_res46.top -n index.ndx -maxwarn 2\n",
      "\u001b[m56c56\n",
      "\u001b[31m<         gmx grompp -f ${prod_prefix}.mdp -o ${istep}.tpr -c ${pstep}.gro -t ${pstep}.cpt -p topol.top -n index.ndx\n",
      "\u001b[m---\n",
      "\u001b[32m>         gmx grompp -f ${prod_prefix}.mdp -o ${istep}.tpr -c ${pstep}.gro -r ${pstep}.gro -t ${pstep}.cpt -p topol_res46.top -n index.ndx -maxwarn 2\n",
      "\u001b[m58c58\n",
      "\u001b[31m<     gmx mdrun -v -deffnm ${istep}\n",
      "\u001b[m---\n",
      "\u001b[32m>     gmx mdrun -v -deffnm ${istep} -gpu_id 0 -ntomp 16 -bonded gpu -nb gpu -pme gpu -pmefft gpu -pin on -pinoffset 16 -pinstride 1\n",
      "\u001b[m"
     ]
    }
   ],
   "source": [
    "# original vs modified\n",
    "!diff --color original/README run1/README.sh"
   ]
  },
  {
   "cell_type": "markdown",
   "id": "4d98bfa5-65f7-4c1b-b380-a9b4bcb3e8c1",
   "metadata": {},
   "source": [
    "# Step 6.4 Equilibration\n",
    "1. Position restraint force constant *($kJ\\ mol^{-1}\\ nm^{-2}$)*\n",
    "   - Backbone: 500 -> 2000\n",
    "   - Side chain: 200 -> 1000\n",
    "   - Lipid: 200 -> 0\n",
    "   - (Dihedral restraint) Lipid: 200 -> 0\n",
    "2. Run steps\n",
    "   - nsteps: 250000 -> 10000000 (0.5ns -> 20ns)\n",
    "   - nstxout-compressed: 5000 -> 50000 *(Compressed trajectory file every 0.1 ns (.xtc file))*\n",
    "   - nstxtcout: 0 -> 5000 *(Frequency to write coordinates to xtc trajectory)*\n",
    "   - nstenergy: 1000 -> 50000 *(Frequency to write energies to energy file)*\n",
    "   - nstlog: 1000 -> 50000 *(Frequency to write energies to log file)*\n",
    "4. Coupling *(Rescale particles velocity)*\n",
    "    - tcoupl: v-rescale -> berendsen\n",
    "    - vcoupl: C-rescale -> berendsen"
   ]
  },
  {
   "cell_type": "code",
   "execution_count": 47,
   "id": "2574bee3-b093-4119-a2a9-ae0eb5b4344d",
   "metadata": {},
   "outputs": [
    {
     "name": "stdout",
     "output_type": "stream",
     "text": [
      "1c1\n",
      "\u001b[31m< define                  = -DPOSRES -DPOSRES_FC_BB=500.0 -DPOSRES_FC_SC=200.0 -DPOSRES_FC_LIPID=200.0 -DDIHRES -DDIHRES_FC=200.0\n",
      "\u001b[m---\n",
      "\u001b[32m> define                  = -DPOSRES -DPOSRES_FC_BB=2000.0 -DPOSRES_FC_SC=1000.0 -DPOSRES_FC_LIPID=0.0 -DDIHRES -DDIHRES_FC=0\n",
      "\u001b[m4,6c4,7\n",
      "\u001b[31m< nsteps                  = 250000\n",
      "< nstxout-compressed      = 5000\n",
      "< nstxout                 = 0\n",
      "\u001b[m---\n",
      "\u001b[32m> nsteps                  = 10000000\t    ; 20ns\n",
      "> \n",
      "> \n",
      "> ;nstxtcout               = 5000\n",
      "\u001b[m9,11c10,14\n",
      "\u001b[31m< nstcalcenergy           = 100\n",
      "< nstenergy               = 1000\n",
      "< nstlog                  = 1000\n",
      "\u001b[m---\n",
      "\u001b[32m> ;nstcalcenergy           = 100\n",
      "> nstenergy               = 50000\n",
      "> nstlog                  = 50000\n",
      "> nstxout-compressed      = 50000             ; compressed trajectory file every 0.1 ns (.xtc file) \n",
      "> \n",
      "\u001b[m23c26\n",
      "\u001b[31m< tcoupl                  = v-rescale\n",
      "\u001b[m---\n",
      "\u001b[32m> tcoupl                  = berendsen\n",
      "\u001b[m28c31\n",
      "\u001b[31m< pcoupl                  = C-rescale\n",
      "\u001b[m---\n",
      "\u001b[32m> pcoupl                  = berendsen\n",
      "\u001b[m"
     ]
    }
   ],
   "source": [
    "# Original vs modified\n",
    "!diff --color original/step6.4_equilibration.mdp run1/step6.4_equilibration.mdp "
   ]
  },
  {
   "cell_type": "markdown",
   "id": "6ccbea2c-6d17-4aba-b650-eb834952d103",
   "metadata": {},
   "source": [
    "# Step 7 Production\n",
    "1. Position restraint force constant:\n",
    "   - Backbone: 0 -> 800\n",
    "2. Run steps\n",
    "   - nsteps: 250000 -> 10000000 (1ns -> 500ns)\n",
    "   - nstcalcenergy: 100 -> 0 *(Frequency for calculating the energies)*\n",
    "   - nstenergy: 1000 -> 50000 *(Frequency to write energies to energy file)*\n",
    "   - nstlog: 1000 -> 50000 *(Frequency to write energies to log file)*\n",
    "   - nstxout-compressed: 50000 -> 25000 *(Compressed trajectory file every 0.05 ns (.xtc file))*\n",
    "4. Coupling\n",
    "    - tcoupl: v-rescale -> Nose-Hoover\n",
    "    - vcoupl: C-rescale -> Parrinello-Rahman\n",
    "    - refcoord_scaling: no -> com *(Scale the center of mass of the reference coordinates with the scaling matrix of the pressure coupling)*\n",
    "    - electric-field-z: 0 -> (0.10  0    0   0) *(field N/C, angular frequency, starting time, width of pulse)*"
   ]
  },
  {
   "cell_type": "code",
   "execution_count": 49,
   "id": "4b153bf0-7035-4cd5-837d-7d96de920920",
   "metadata": {},
   "outputs": [
    {
     "name": "stdout",
     "output_type": "stream",
     "text": [
      "0a1\n",
      "\u001b[32m> define                  = -DPOSRES -DPOSRES_FC_BB=800.0  -DPOSRES_FC_LIPID=0.0 -DDIHRES -DDIHRES_FC=0.0\n",
      "\u001b[m3,4c4,5\n",
      "\u001b[31m< nsteps                  = 500000\n",
      "< nstxout-compressed      = 50000\n",
      "\u001b[m---\n",
      "\u001b[32m> nsteps                  = 250000000\t    ; 500ns\n",
      "> \n",
      "\u001b[m8,10c9,13\n",
      "\u001b[31m< nstcalcenergy           = 100\n",
      "< nstenergy               = 1000\n",
      "< nstlog                  = 1000\n",
      "\u001b[m---\n",
      "\u001b[32m> ;nstcalcenergy           = 100\n",
      "> nstenergy               = 50000\n",
      "> nstlog                  = 50000\n",
      "> nstxout-compressed      = 25000             ; compressed trajectory file every 0.05 ns (.xtc file) \n",
      "> \n",
      "\u001b[m22c25\n",
      "\u001b[31m< tcoupl                  = v-rescale\n",
      "\u001b[m---\n",
      "\u001b[32m> tcoupl                  = Nose-Hoover\n",
      "\u001b[m27c30\n",
      "\u001b[31m< pcoupl                  = C-rescale\n",
      "\u001b[m---\n",
      "\u001b[32m> pcoupl                  = Parrinello-Rahman\n",
      "\u001b[m40a44,46\n",
      "\u001b[32m> refcoord_scaling        = com\n",
      "> \n",
      "> electric-field-z        = 0.10  0    0   0 \n",
      "\u001b[m"
     ]
    }
   ],
   "source": [
    "!diff --color original/step7_production.mdp run1/step7_production.mdp"
   ]
  },
  {
   "cell_type": "markdown",
   "id": "3102f479-9382-403f-a86e-ed4074212a81",
   "metadata": {},
   "source": [
    "# Position restraints \n",
    "- Only impose restraints on residue 649, 651, 659, 660"
   ]
  },
  {
   "cell_type": "code",
   "execution_count": 145,
   "id": "3f48d686-c218-4518-9bdf-fc2fd09e9f37",
   "metadata": {},
   "outputs": [
    {
     "name": "stdout",
     "output_type": "stream",
     "text": [
      "    6606 original/toppar/PROA.itp\n",
      "6279:[ position_restraints ]\n",
      "6280-    1     1    POSRES_FC_BB    POSRES_FC_BB    POSRES_FC_BB   \n",
      "6281-    5     1    POSRES_FC_BB    POSRES_FC_BB    POSRES_FC_BB   \n",
      "6282-    7     1    POSRES_FC_SC    POSRES_FC_SC    POSRES_FC_SC   \n",
      "6283-   11     1    POSRES_FC_BB    POSRES_FC_BB    POSRES_FC_BB   \n",
      "6284-   12     1    POSRES_FC_BB    POSRES_FC_BB    POSRES_FC_BB   \n",
      "6285-   13     1    POSRES_FC_BB    POSRES_FC_BB    POSRES_FC_BB   \n",
      "6286-   15     1    POSRES_FC_BB    POSRES_FC_BB    POSRES_FC_BB   \n",
      "6287-   17     1    POSRES_FC_SC    POSRES_FC_SC    POSRES_FC_SC   \n",
      "6288-   20     1    POSRES_FC_SC    POSRES_FC_SC    POSRES_FC_SC   \n",
      "6289-   21     1    POSRES_FC_SC    POSRES_FC_SC    POSRES_FC_SC   \n"
     ]
    }
   ],
   "source": [
    "# original \n",
    "!wc -l original/toppar/PROA.itp\n",
    "!grep -A 10 -n \"position_restraints\" original/toppar/PROA.itp"
   ]
  },
  {
   "cell_type": "code",
   "execution_count": 147,
   "id": "63117ee4-b645-43a1-b50a-225a7bd0cc05",
   "metadata": {},
   "outputs": [
    {
     "name": "stdout",
     "output_type": "stream",
     "text": [
      "    6283   29299  190359 run1/toppar_res46/PROA.itp\n",
      "6279:[ position_restraints ]     \n",
      "6280-  649     1    POSRES_FC_BB    POSRES_FC_BB    POSRES_FC_BB   \n",
      "6281-  651     1    POSRES_FC_BB    POSRES_FC_BB    POSRES_FC_BB   \n",
      "6282-  659     1    POSRES_FC_BB    POSRES_FC_BB    POSRES_FC_BB   \n",
      "6283-  660     1    POSRES_FC_BB    POSRES_FC_BB    POSRES_FC_BB   \n",
      "6284-#endif\n"
     ]
    }
   ],
   "source": [
    "# modified\n",
    "!wc run1/toppar_res46/PROA.itp\n",
    "!grep -A 10 -n \"position_restraints\" run1/toppar_res46/PROA.itp"
   ]
  },
  {
   "cell_type": "code",
   "execution_count": null,
   "id": "7b309276-24e5-4907-b4f9-ef186ac9572f",
   "metadata": {},
   "outputs": [],
   "source": []
  }
 ],
 "metadata": {
  "kernelspec": {
   "display_name": "Python 3 (ipykernel)",
   "language": "python",
   "name": "python3"
  },
  "language_info": {
   "codemirror_mode": {
    "name": "ipython",
    "version": 3
   },
   "file_extension": ".py",
   "mimetype": "text/x-python",
   "name": "python",
   "nbconvert_exporter": "python",
   "pygments_lexer": "ipython3",
   "version": "3.12.4"
  }
 },
 "nbformat": 4,
 "nbformat_minor": 5
}
